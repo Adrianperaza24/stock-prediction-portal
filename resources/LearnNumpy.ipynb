{
 "cells": [
  {
   "cell_type": "markdown",
   "id": "f6eb8cd9-ee97-48ed-9dca-9dae571fffe5",
   "metadata": {},
   "source": [
    "## Learn Numpy"
   ]
  },
  {
   "cell_type": "code",
   "execution_count": 1,
   "id": "cb6ae836-f7dc-4a3a-a41d-68989625e963",
   "metadata": {},
   "outputs": [],
   "source": [
    "import numpy as np"
   ]
  },
  {
   "cell_type": "code",
   "execution_count": 2,
   "id": "3af5047b-19ce-48ac-9c00-b23866103c96",
   "metadata": {},
   "outputs": [
    {
     "data": {
      "text/plain": [
       "'2.3.1'"
      ]
     },
     "execution_count": 2,
     "metadata": {},
     "output_type": "execute_result"
    }
   ],
   "source": [
    "np.__version__"
   ]
  },
  {
   "cell_type": "markdown",
   "id": "233e8e25-1235-4a49-b180-a4ab074743b4",
   "metadata": {},
   "source": [
    "## Create & Read"
   ]
  },
  {
   "cell_type": "markdown",
   "id": "d7bce8f8-df2e-4852-8521-3fb6459a393e",
   "metadata": {},
   "source": [
    "#### 1D Array"
   ]
  },
  {
   "cell_type": "code",
   "execution_count": 12,
   "id": "4e2940ca-fa43-4089-8dd9-5b7178932f0d",
   "metadata": {},
   "outputs": [
    {
     "data": {
      "text/plain": [
       "array([1, 2, 3, 4, 5, 6])"
      ]
     },
     "execution_count": 12,
     "metadata": {},
     "output_type": "execute_result"
    }
   ],
   "source": [
    "arr1 = np.array([1,2,3,4,5,6])\n",
    "arr1"
   ]
  },
  {
   "cell_type": "code",
   "execution_count": 13,
   "id": "1d285882-ed8d-4aa0-9520-a8e4b8cd93b6",
   "metadata": {},
   "outputs": [
    {
     "data": {
      "text/plain": [
       "numpy.ndarray"
      ]
     },
     "execution_count": 13,
     "metadata": {},
     "output_type": "execute_result"
    }
   ],
   "source": [
    "type(arr1)"
   ]
  },
  {
   "cell_type": "code",
   "execution_count": 14,
   "id": "370c9691-8473-40bc-8d78-dfaeb1e19148",
   "metadata": {},
   "outputs": [
    {
     "data": {
      "text/plain": [
       "(6,)"
      ]
     },
     "execution_count": 14,
     "metadata": {},
     "output_type": "execute_result"
    }
   ],
   "source": [
    "arr1.shape"
   ]
  },
  {
   "cell_type": "code",
   "execution_count": 15,
   "id": "a0bbd80c-9923-45b8-9042-9100e43066b2",
   "metadata": {},
   "outputs": [
    {
     "data": {
      "text/plain": [
       "dtype('int64')"
      ]
     },
     "execution_count": 15,
     "metadata": {},
     "output_type": "execute_result"
    }
   ],
   "source": [
    "arr1.dtype"
   ]
  },
  {
   "cell_type": "code",
   "execution_count": 16,
   "id": "9c0558a5-e785-4fb5-b2c5-855240655f73",
   "metadata": {},
   "outputs": [
    {
     "data": {
      "text/plain": [
       "1"
      ]
     },
     "execution_count": 16,
     "metadata": {},
     "output_type": "execute_result"
    }
   ],
   "source": [
    "arr1.ndim"
   ]
  },
  {
   "cell_type": "code",
   "execution_count": 17,
   "id": "ff77eda3-0615-445b-85c0-95a40732265b",
   "metadata": {},
   "outputs": [
    {
     "data": {
      "text/plain": [
       "6"
      ]
     },
     "execution_count": 17,
     "metadata": {},
     "output_type": "execute_result"
    }
   ],
   "source": [
    "arr1.size"
   ]
  },
  {
   "cell_type": "markdown",
   "id": "8c0190a9-4660-464a-b442-d042ad4ccad3",
   "metadata": {},
   "source": [
    "#### 2D Array"
   ]
  },
  {
   "cell_type": "code",
   "execution_count": 18,
   "id": "7cb0a91a-e184-4211-8f5d-f5e250a16c43",
   "metadata": {},
   "outputs": [
    {
     "data": {
      "text/plain": [
       "array([[1, 4, 5],\n",
       "       [6, 7, 4]])"
      ]
     },
     "execution_count": 18,
     "metadata": {},
     "output_type": "execute_result"
    }
   ],
   "source": [
    "arr2 = np.array([[1,4,5], [6,7,4]])\n",
    "arr2"
   ]
  },
  {
   "cell_type": "code",
   "execution_count": 19,
   "id": "8025a668-348c-4c1c-b5c3-e9df49f63f6a",
   "metadata": {},
   "outputs": [
    {
     "data": {
      "text/plain": [
       "2"
      ]
     },
     "execution_count": 19,
     "metadata": {},
     "output_type": "execute_result"
    }
   ],
   "source": [
    "arr2.ndim"
   ]
  },
  {
   "cell_type": "code",
   "execution_count": 22,
   "id": "3ee15a1e-5dbe-4e05-9e7f-956f8510c337",
   "metadata": {},
   "outputs": [
    {
     "data": {
      "text/plain": [
       "(2, 3)"
      ]
     },
     "execution_count": 22,
     "metadata": {},
     "output_type": "execute_result"
    }
   ],
   "source": [
    "arr2.shape #row, col"
   ]
  },
  {
   "cell_type": "code",
   "execution_count": 23,
   "id": "cd40ecfd-00b5-4ab6-95af-6c14c08f53df",
   "metadata": {},
   "outputs": [
    {
     "data": {
      "text/plain": [
       "dtype('int64')"
      ]
     },
     "execution_count": 23,
     "metadata": {},
     "output_type": "execute_result"
    }
   ],
   "source": [
    "arr2.dtype"
   ]
  },
  {
   "cell_type": "code",
   "execution_count": 24,
   "id": "4f312da3-6e56-47b3-8092-275f2cac9f46",
   "metadata": {},
   "outputs": [
    {
     "data": {
      "text/plain": [
       "6"
      ]
     },
     "execution_count": 24,
     "metadata": {},
     "output_type": "execute_result"
    }
   ],
   "source": [
    "arr2.size"
   ]
  },
  {
   "cell_type": "markdown",
   "id": "0688c587-8c84-403e-8433-0b754f8db76e",
   "metadata": {},
   "source": [
    "#### 3D Array"
   ]
  },
  {
   "cell_type": "code",
   "execution_count": 29,
   "id": "cc7ad826-1de3-4624-881b-476fa30072cf",
   "metadata": {},
   "outputs": [
    {
     "data": {
      "text/plain": [
       "array([[[1, 4, 5],\n",
       "        [6, 7, 4]],\n",
       "\n",
       "       [[3, 5, 4],\n",
       "        [8, 1, 2]],\n",
       "\n",
       "       [[1, 2, 3],\n",
       "        [8, 9, 4]]])"
      ]
     },
     "execution_count": 29,
     "metadata": {},
     "output_type": "execute_result"
    }
   ],
   "source": [
    "arr3 = np.array([[[1,4,5], [6,7,4]], [[3,5,4], [8,1,2]], [[1,2,3], [8,9,4]]])\n",
    "arr3"
   ]
  },
  {
   "cell_type": "code",
   "execution_count": 30,
   "id": "11f675c8-7f34-4767-a83c-4807958a18b6",
   "metadata": {},
   "outputs": [
    {
     "data": {
      "text/plain": [
       "3"
      ]
     },
     "execution_count": 30,
     "metadata": {},
     "output_type": "execute_result"
    }
   ],
   "source": [
    "arr3.ndim"
   ]
  },
  {
   "cell_type": "code",
   "execution_count": 31,
   "id": "25f8857b-a199-48ba-8f86-c047fe7ec040",
   "metadata": {},
   "outputs": [
    {
     "data": {
      "text/plain": [
       "(3, 2, 3)"
      ]
     },
     "execution_count": 31,
     "metadata": {},
     "output_type": "execute_result"
    }
   ],
   "source": [
    "arr3.shape"
   ]
  },
  {
   "cell_type": "code",
   "execution_count": 32,
   "id": "17c034fb-4396-4f33-ae3e-8646d87dc21b",
   "metadata": {},
   "outputs": [
    {
     "data": {
      "text/plain": [
       "18"
      ]
     },
     "execution_count": 32,
     "metadata": {},
     "output_type": "execute_result"
    }
   ],
   "source": [
    "arr3.size"
   ]
  },
  {
   "cell_type": "markdown",
   "id": "c32904a8-ebde-465e-857b-eb6839812e41",
   "metadata": {},
   "source": [
    "### Create random arrays"
   ]
  },
  {
   "cell_type": "code",
   "execution_count": 33,
   "id": "01b9b055-776f-426b-abf6-a87c5269fb11",
   "metadata": {},
   "outputs": [
    {
     "data": {
      "text/plain": [
       "array([[[0.58155667, 0.57489435, 0.90591169],\n",
       "        [0.33964335, 0.79807442, 0.78735919]],\n",
       "\n",
       "       [[0.83575893, 0.37615851, 0.23525249],\n",
       "        [0.57743874, 0.41470872, 0.02713649]],\n",
       "\n",
       "       [[0.69695595, 0.77919023, 0.69304454],\n",
       "        [0.29515978, 0.2451244 , 0.71395572]]])"
      ]
     },
     "execution_count": 33,
     "metadata": {},
     "output_type": "execute_result"
    }
   ],
   "source": [
    "randomArr = np.random.rand(3,2,3)\n",
    "randomArr"
   ]
  },
  {
   "cell_type": "code",
   "execution_count": 34,
   "id": "04bfd8d4-9da2-43d9-8577-8a46e5d43e1f",
   "metadata": {},
   "outputs": [
    {
     "data": {
      "text/plain": [
       "dtype('float64')"
      ]
     },
     "execution_count": 34,
     "metadata": {},
     "output_type": "execute_result"
    }
   ],
   "source": [
    "randomArr.dtype"
   ]
  },
  {
   "cell_type": "code",
   "execution_count": 35,
   "id": "9b1fe6a7-bfcd-4d6b-acc3-0b61d62a10b7",
   "metadata": {},
   "outputs": [
    {
     "data": {
      "text/plain": [
       "(3, 2, 3)"
      ]
     },
     "execution_count": 35,
     "metadata": {},
     "output_type": "execute_result"
    }
   ],
   "source": [
    "randomArr.shape"
   ]
  },
  {
   "cell_type": "code",
   "execution_count": 40,
   "id": "e6ae2283-d6f4-4fc0-a36b-1fce05222564",
   "metadata": {},
   "outputs": [
    {
     "data": {
      "text/plain": [
       "array([[[0., 0., 0.],\n",
       "        [0., 0., 0.]],\n",
       "\n",
       "       [[0., 0., 0.],\n",
       "        [0., 0., 0.]],\n",
       "\n",
       "       [[0., 0., 0.],\n",
       "        [0., 0., 0.]]])"
      ]
     },
     "execution_count": 40,
     "metadata": {},
     "output_type": "execute_result"
    }
   ],
   "source": [
    "zeros = np.zeros((3,2,3))\n",
    "zeros"
   ]
  },
  {
   "cell_type": "code",
   "execution_count": 39,
   "id": "55f6ccfa-ec29-497f-a79b-a157f9bb7f3f",
   "metadata": {},
   "outputs": [
    {
     "data": {
      "text/plain": [
       "array([[[8, 8, 8],\n",
       "        [8, 8, 8]],\n",
       "\n",
       "       [[8, 8, 8],\n",
       "        [8, 8, 8]],\n",
       "\n",
       "       [[8, 8, 8],\n",
       "        [8, 8, 8]]])"
      ]
     },
     "execution_count": 39,
     "metadata": {},
     "output_type": "execute_result"
    }
   ],
   "source": [
    "full = np.full((3,2,3), 8)\n",
    "full"
   ]
  },
  {
   "cell_type": "code",
   "execution_count": 42,
   "id": "ad29e302-12ca-460f-87a1-2f0230efda61",
   "metadata": {},
   "outputs": [
    {
     "data": {
      "text/plain": [
       "array([[[1., 1., 1.],\n",
       "        [1., 1., 1.]],\n",
       "\n",
       "       [[1., 1., 1.],\n",
       "        [1., 1., 1.]],\n",
       "\n",
       "       [[1., 1., 1.],\n",
       "        [1., 1., 1.]]])"
      ]
     },
     "execution_count": 42,
     "metadata": {},
     "output_type": "execute_result"
    }
   ],
   "source": [
    "ones = np.ones((3,2,3))\n",
    "ones"
   ]
  },
  {
   "cell_type": "code",
   "execution_count": 43,
   "id": "e530a691-7f5b-4707-a4ac-c54f75dd5179",
   "metadata": {},
   "outputs": [
    {
     "data": {
      "text/plain": [
       "array([[[1, 4, 5],\n",
       "        [6, 7, 4]],\n",
       "\n",
       "       [[3, 5, 4],\n",
       "        [8, 1, 2]],\n",
       "\n",
       "       [[1, 2, 3],\n",
       "        [8, 9, 4]]])"
      ]
     },
     "execution_count": 43,
     "metadata": {},
     "output_type": "execute_result"
    }
   ],
   "source": [
    "arr3"
   ]
  },
  {
   "cell_type": "code",
   "execution_count": 49,
   "id": "7f873609-7182-401e-955b-e91ec6d81246",
   "metadata": {},
   "outputs": [
    {
     "data": {
      "text/plain": [
       "np.int64(9)"
      ]
     },
     "execution_count": 49,
     "metadata": {},
     "output_type": "execute_result"
    }
   ],
   "source": [
    "arr3[2,1,1]"
   ]
  },
  {
   "cell_type": "code",
   "execution_count": 50,
   "id": "7c8ebad0-6ec4-4aee-9102-1c0c6c396fb3",
   "metadata": {},
   "outputs": [
    {
     "data": {
      "text/plain": [
       "array([[1, 4, 5],\n",
       "       [6, 7, 4]])"
      ]
     },
     "execution_count": 50,
     "metadata": {},
     "output_type": "execute_result"
    }
   ],
   "source": [
    "arr3[0]"
   ]
  },
  {
   "cell_type": "code",
   "execution_count": 51,
   "id": "5b6f379f-2fa8-4453-b5ca-2f4b7fa68707",
   "metadata": {},
   "outputs": [
    {
     "data": {
      "text/plain": [
       "array([[[1, 4, 5],\n",
       "        [6, 7, 4]],\n",
       "\n",
       "       [[3, 5, 4],\n",
       "        [8, 1, 2]]])"
      ]
     },
     "execution_count": 51,
     "metadata": {},
     "output_type": "execute_result"
    }
   ],
   "source": [
    "arr3[0:2]"
   ]
  },
  {
   "cell_type": "code",
   "execution_count": 52,
   "id": "c6459573-a996-4a5d-92d3-0088d0143443",
   "metadata": {},
   "outputs": [
    {
     "data": {
      "text/plain": [
       "array([[1, 2, 3],\n",
       "       [8, 9, 4]])"
      ]
     },
     "execution_count": 52,
     "metadata": {},
     "output_type": "execute_result"
    }
   ],
   "source": [
    "arr3[-1]"
   ]
  },
  {
   "cell_type": "code",
   "execution_count": 53,
   "id": "8ef5ae8f-0d93-4383-80ad-e012320f69f4",
   "metadata": {},
   "outputs": [
    {
     "data": {
      "text/plain": [
       "np.int64(5)"
      ]
     },
     "execution_count": 53,
     "metadata": {},
     "output_type": "execute_result"
    }
   ],
   "source": [
    "arr3[1,0,1]"
   ]
  },
  {
   "cell_type": "code",
   "execution_count": 54,
   "id": "c7b4ea77-963d-44a4-9277-ba3aedad8770",
   "metadata": {},
   "outputs": [
    {
     "data": {
      "text/plain": [
       "np.int64(5)"
      ]
     },
     "execution_count": 54,
     "metadata": {},
     "output_type": "execute_result"
    }
   ],
   "source": [
    "arr3[1][0][1]"
   ]
  },
  {
   "cell_type": "markdown",
   "id": "3bf69314-8f1e-4638-bf3f-77b8198040a3",
   "metadata": {},
   "source": [
    "## Update & Delete"
   ]
  },
  {
   "cell_type": "code",
   "execution_count": 63,
   "id": "49b4e098-82a9-4322-a385-de9f7f2481fc",
   "metadata": {},
   "outputs": [
    {
     "data": {
      "text/plain": [
       "array([[[0.3557166 , 0.60848414],\n",
       "        [0.88800041, 0.17656715],\n",
       "        [0.33085136, 0.98675416]],\n",
       "\n",
       "       [[0.85306434, 0.6856525 ],\n",
       "        [0.79313041, 0.8901351 ],\n",
       "        [0.0055479 , 0.36678715]]])"
      ]
     },
     "execution_count": 63,
     "metadata": {},
     "output_type": "execute_result"
    }
   ],
   "source": [
    "a1 = np.random.rand(2,3,2)\n",
    "a2 = np.random.rand(2,3,2)\n",
    "a1"
   ]
  },
  {
   "cell_type": "code",
   "execution_count": 64,
   "id": "3bc12ab8-da5f-4c42-9530-2180dfe670e5",
   "metadata": {},
   "outputs": [
    {
     "data": {
      "text/plain": [
       "array([[[0.22975718, 0.80371559],\n",
       "        [0.62933841, 0.1086982 ],\n",
       "        [0.60350385, 0.10130204]],\n",
       "\n",
       "       [[0.45155686, 0.52398351],\n",
       "        [0.91346143, 0.05033916],\n",
       "        [0.62279477, 0.3317716 ]]])"
      ]
     },
     "execution_count": 64,
     "metadata": {},
     "output_type": "execute_result"
    }
   ],
   "source": [
    "a2"
   ]
  },
  {
   "cell_type": "markdown",
   "id": "d381d3ce-9d0d-4eb0-85a2-43005c6a6e44",
   "metadata": {},
   "source": [
    "#### Basic Math operations"
   ]
  },
  {
   "cell_type": "code",
   "execution_count": 65,
   "id": "36fec3fa-1cde-4a65-91b0-a8db5f1a1a78",
   "metadata": {},
   "outputs": [
    {
     "data": {
      "text/plain": [
       "array([[[0.58547378, 1.41219974],\n",
       "        [1.51733882, 0.28526535],\n",
       "        [0.93435522, 1.08805621]],\n",
       "\n",
       "       [[1.3046212 , 1.20963601],\n",
       "        [1.70659184, 0.94047426],\n",
       "        [0.62834267, 0.69855875]]])"
      ]
     },
     "execution_count": 65,
     "metadata": {},
     "output_type": "execute_result"
    }
   ],
   "source": [
    "np.add(a1,a2)"
   ]
  },
  {
   "cell_type": "code",
   "execution_count": 67,
   "id": "143a2573-9cf9-4c4d-b56d-646b93d8d5ed",
   "metadata": {},
   "outputs": [
    {
     "data": {
      "text/plain": [
       "array([[[ 0.12595942, -0.19523145],\n",
       "        [ 0.258662  ,  0.06786896],\n",
       "        [-0.27265249,  0.88545212]],\n",
       "\n",
       "       [[ 0.40150748,  0.16166899],\n",
       "        [-0.12033102,  0.83979594],\n",
       "        [-0.61724687,  0.03501554]]])"
      ]
     },
     "execution_count": 67,
     "metadata": {},
     "output_type": "execute_result"
    }
   ],
   "source": [
    "np.subtract(a1,a2)"
   ]
  },
  {
   "cell_type": "code",
   "execution_count": 68,
   "id": "db68c917-f971-4559-b667-35d82c52e6ab",
   "metadata": {},
   "outputs": [
    {
     "data": {
      "text/plain": [
       "array([[[1.54822847e+00, 7.57088889e-01],\n",
       "        [1.41100623e+00, 1.62437978e+00],\n",
       "        [5.48217485e-01, 9.74071322e+00]],\n",
       "\n",
       "       [[1.88916262e+00, 1.30853832e+00],\n",
       "        [8.68269178e-01, 1.76827563e+01],\n",
       "        [8.90807527e-03, 1.10554111e+00]]])"
      ]
     },
     "execution_count": 68,
     "metadata": {},
     "output_type": "execute_result"
    }
   ],
   "source": [
    "np.divide(a1,a2)"
   ]
  },
  {
   "cell_type": "code",
   "execution_count": 69,
   "id": "7ae0e814-d3da-4504-90f0-92a95497ba15",
   "metadata": {},
   "outputs": [
    {
     "data": {
      "text/plain": [
       "array([[[0.08172844, 0.48904819],\n",
       "        [0.55885276, 0.01919253],\n",
       "        [0.19967007, 0.09996021]],\n",
       "\n",
       "       [[0.38520706, 0.3592706 ],\n",
       "        [0.72449404, 0.04480865],\n",
       "        [0.0034552 , 0.12168956]]])"
      ]
     },
     "execution_count": 69,
     "metadata": {},
     "output_type": "execute_result"
    }
   ],
   "source": [
    "np.multiply(a1,a2)"
   ]
  },
  {
   "cell_type": "markdown",
   "id": "af16a3b7-6299-4257-b0a7-5c0cab1f3be7",
   "metadata": {},
   "source": [
    "#### Statistical Operations"
   ]
  },
  {
   "cell_type": "code",
   "execution_count": 70,
   "id": "790ce159-4eb3-4253-9d97-1288dbf8c7fb",
   "metadata": {},
   "outputs": [],
   "source": [
    "sqrt = np.sqrt(25)\n",
    "abs1 = np.abs(-2)\n",
    "power = np.power(2,8)\n",
    "log = np.log(25)\n",
    "mins = np.min(a1)\n",
    "maxs = np.max(a2)"
   ]
  },
  {
   "cell_type": "code",
   "execution_count": 71,
   "id": "6cdc8bbd-e1a8-429f-b77f-f3be9cf17a9e",
   "metadata": {},
   "outputs": [
    {
     "data": {
      "text/plain": [
       "np.float64(5.0)"
      ]
     },
     "execution_count": 71,
     "metadata": {},
     "output_type": "execute_result"
    }
   ],
   "source": [
    "sqrt"
   ]
  },
  {
   "cell_type": "code",
   "execution_count": 72,
   "id": "15f6387d-6e84-4997-a5ef-deb5c825e430",
   "metadata": {},
   "outputs": [
    {
     "data": {
      "text/plain": [
       "np.int64(2)"
      ]
     },
     "execution_count": 72,
     "metadata": {},
     "output_type": "execute_result"
    }
   ],
   "source": [
    "abs1"
   ]
  },
  {
   "cell_type": "code",
   "execution_count": 73,
   "id": "13e43a39-f868-44c0-9291-259ac8daa80d",
   "metadata": {},
   "outputs": [
    {
     "data": {
      "text/plain": [
       "np.int64(256)"
      ]
     },
     "execution_count": 73,
     "metadata": {},
     "output_type": "execute_result"
    }
   ],
   "source": [
    "power"
   ]
  },
  {
   "cell_type": "code",
   "execution_count": 74,
   "id": "0a871045-6254-4199-bb4a-41ef37b4c3a6",
   "metadata": {},
   "outputs": [
    {
     "data": {
      "text/plain": [
       "np.float64(3.2188758248682006)"
      ]
     },
     "execution_count": 74,
     "metadata": {},
     "output_type": "execute_result"
    }
   ],
   "source": [
    "log"
   ]
  },
  {
   "cell_type": "code",
   "execution_count": 75,
   "id": "6c956341-31c8-4a24-8d56-e093cd8706d7",
   "metadata": {},
   "outputs": [
    {
     "data": {
      "text/plain": [
       "np.float64(0.005547902694999052)"
      ]
     },
     "execution_count": 75,
     "metadata": {},
     "output_type": "execute_result"
    }
   ],
   "source": [
    "mins"
   ]
  },
  {
   "cell_type": "code",
   "execution_count": 76,
   "id": "9dee1181-fbe8-431a-9bdc-3e6141cd6527",
   "metadata": {},
   "outputs": [
    {
     "data": {
      "text/plain": [
       "np.float64(0.9134614320815292)"
      ]
     },
     "execution_count": 76,
     "metadata": {},
     "output_type": "execute_result"
    }
   ],
   "source": [
    "maxs"
   ]
  },
  {
   "cell_type": "markdown",
   "id": "2fe1f61a-d248-4a58-b5ec-c68543c87e36",
   "metadata": {},
   "source": [
    "#### Update"
   ]
  },
  {
   "cell_type": "code",
   "execution_count": 77,
   "id": "fee94b18-d9ff-4683-b54a-6c31cd402395",
   "metadata": {},
   "outputs": [
    {
     "data": {
      "text/plain": [
       "array([[[1, 4, 5],\n",
       "        [6, 7, 4]],\n",
       "\n",
       "       [[3, 5, 4],\n",
       "        [8, 1, 2]],\n",
       "\n",
       "       [[1, 2, 3],\n",
       "        [8, 9, 4]]])"
      ]
     },
     "execution_count": 77,
     "metadata": {},
     "output_type": "execute_result"
    }
   ],
   "source": [
    "arr3"
   ]
  },
  {
   "cell_type": "code",
   "execution_count": 80,
   "id": "3dbc3338-2916-4058-9742-33721817182e",
   "metadata": {},
   "outputs": [
    {
     "data": {
      "text/plain": [
       "array([[[ 1,  4, 12],\n",
       "        [ 6,  7,  4]],\n",
       "\n",
       "       [[ 3,  5,  4],\n",
       "        [ 8,  1,  2]],\n",
       "\n",
       "       [[ 1,  2,  3],\n",
       "        [ 8,  9,  4]]])"
      ]
     },
     "execution_count": 80,
     "metadata": {},
     "output_type": "execute_result"
    }
   ],
   "source": [
    "arr3[0,0,2] = 12\n",
    "arr3"
   ]
  },
  {
   "cell_type": "code",
   "execution_count": 81,
   "id": "c9f81fa0-fa66-4be8-9f36-19c0599f4b06",
   "metadata": {},
   "outputs": [
    {
     "data": {
      "text/plain": [
       "array([[[ 1,  4, 12],\n",
       "        [ 4,  6,  7]],\n",
       "\n",
       "       [[ 3,  4,  5],\n",
       "        [ 1,  2,  8]],\n",
       "\n",
       "       [[ 1,  2,  3],\n",
       "        [ 4,  8,  9]]])"
      ]
     },
     "execution_count": 81,
     "metadata": {},
     "output_type": "execute_result"
    }
   ],
   "source": [
    "arr3.sort()\n",
    "arr3"
   ]
  },
  {
   "cell_type": "code",
   "execution_count": 82,
   "id": "c608c745-0a99-44ff-a510-0d136ede7cb0",
   "metadata": {},
   "outputs": [
    {
     "data": {
      "text/plain": [
       "(3, 2, 3)"
      ]
     },
     "execution_count": 82,
     "metadata": {},
     "output_type": "execute_result"
    }
   ],
   "source": [
    "arr3.shape"
   ]
  },
  {
   "cell_type": "code",
   "execution_count": 87,
   "id": "6b3f8d35-6015-4660-ad49-998eae37e200",
   "metadata": {},
   "outputs": [
    {
     "data": {
      "text/plain": [
       "array([[[ 1,  4],\n",
       "        [12,  4],\n",
       "        [ 6,  7],\n",
       "        [ 3,  4],\n",
       "        [ 5,  1],\n",
       "        [ 2,  8],\n",
       "        [ 1,  2],\n",
       "        [ 3,  4],\n",
       "        [ 8,  9]]])"
      ]
     },
     "execution_count": 87,
     "metadata": {},
     "output_type": "execute_result"
    }
   ],
   "source": [
    "arr3_reshaped = arr3.reshape(1,-1,2) # -1 Allows you to leave one of the dimensions as a variable that the reshape formula will \n",
    "                                     # calculate in order to place all of the items\n",
    "arr3_reshaped"
   ]
  },
  {
   "cell_type": "markdown",
   "id": "4aaca179-b1ab-42ab-a45a-a846e7616310",
   "metadata": {},
   "source": [
    "#### Appending & Inserting"
   ]
  },
  {
   "cell_type": "code",
   "execution_count": 88,
   "id": "f84225a7-ef38-43be-926b-1f3b92211e21",
   "metadata": {},
   "outputs": [
    {
     "data": {
      "text/plain": [
       "array([[[0., 0., 0.],\n",
       "        [0., 0., 0.]],\n",
       "\n",
       "       [[0., 0., 0.],\n",
       "        [0., 0., 0.]],\n",
       "\n",
       "       [[0., 0., 0.],\n",
       "        [0., 0., 0.]]])"
      ]
     },
     "execution_count": 88,
     "metadata": {},
     "output_type": "execute_result"
    }
   ],
   "source": [
    "zeros"
   ]
  },
  {
   "cell_type": "code",
   "execution_count": 89,
   "id": "1ac0de19-58ef-470a-ba99-2b057e67e758",
   "metadata": {},
   "outputs": [
    {
     "data": {
      "text/plain": [
       "array([[[1., 1., 1.],\n",
       "        [1., 1., 1.]],\n",
       "\n",
       "       [[1., 1., 1.],\n",
       "        [1., 1., 1.]],\n",
       "\n",
       "       [[1., 1., 1.],\n",
       "        [1., 1., 1.]]])"
      ]
     },
     "execution_count": 89,
     "metadata": {},
     "output_type": "execute_result"
    }
   ],
   "source": [
    "ones"
   ]
  },
  {
   "cell_type": "code",
   "execution_count": 92,
   "id": "875197fa-abb8-4d35-aef2-760502fffc78",
   "metadata": {},
   "outputs": [
    {
     "data": {
      "text/plain": [
       "array([[[0., 0., 0.],\n",
       "        [0., 0., 0.]],\n",
       "\n",
       "       [[0., 0., 0.],\n",
       "        [0., 0., 0.]],\n",
       "\n",
       "       [[0., 0., 0.],\n",
       "        [0., 0., 0.]],\n",
       "\n",
       "       [[1., 1., 1.],\n",
       "        [1., 1., 1.]],\n",
       "\n",
       "       [[1., 1., 1.],\n",
       "        [1., 1., 1.]],\n",
       "\n",
       "       [[1., 1., 1.],\n",
       "        [1., 1., 1.]]])"
      ]
     },
     "execution_count": 92,
     "metadata": {},
     "output_type": "execute_result"
    }
   ],
   "source": [
    "appd = np.append(zeros, ones, axis=0) #axis 0 = row, axis 1 = col\n",
    "appd"
   ]
  },
  {
   "cell_type": "code",
   "execution_count": 93,
   "id": "1c9cdd8b-46d2-46ff-8109-5829a2b517ee",
   "metadata": {},
   "outputs": [
    {
     "data": {
      "text/plain": [
       "array([[[0., 0., 0.],\n",
       "        [0., 0., 0.]],\n",
       "\n",
       "       [[0., 0., 0.],\n",
       "        [0., 0., 0.]],\n",
       "\n",
       "       [[0., 0., 0.],\n",
       "        [0., 0., 0.]]])"
      ]
     },
     "execution_count": 93,
     "metadata": {},
     "output_type": "execute_result"
    }
   ],
   "source": [
    "zeros"
   ]
  },
  {
   "cell_type": "code",
   "execution_count": 94,
   "id": "43528402-3405-44b3-a3d6-fd56abce9fd0",
   "metadata": {},
   "outputs": [
    {
     "data": {
      "text/plain": [
       "array([[[1., 1., 1.],\n",
       "        [1., 1., 1.]],\n",
       "\n",
       "       [[1., 1., 1.],\n",
       "        [1., 1., 1.]],\n",
       "\n",
       "       [[1., 1., 1.],\n",
       "        [1., 1., 1.]]])"
      ]
     },
     "execution_count": 94,
     "metadata": {},
     "output_type": "execute_result"
    }
   ],
   "source": [
    "ones"
   ]
  },
  {
   "cell_type": "code",
   "execution_count": 101,
   "id": "27d7d3eb-c128-4dd8-9511-80abdeb7318a",
   "metadata": {},
   "outputs": [
    {
     "data": {
      "text/plain": [
       "array([[[0., 0., 0.],\n",
       "        [0., 0., 0.]],\n",
       "\n",
       "       [[1., 1., 1.],\n",
       "        [1., 1., 1.]],\n",
       "\n",
       "       [[1., 1., 1.],\n",
       "        [1., 1., 1.]],\n",
       "\n",
       "       [[1., 1., 1.],\n",
       "        [1., 1., 1.]],\n",
       "\n",
       "       [[0., 0., 0.],\n",
       "        [0., 0., 0.]],\n",
       "\n",
       "       [[0., 0., 0.],\n",
       "        [0., 0., 0.]]])"
      ]
     },
     "execution_count": 101,
     "metadata": {},
     "output_type": "execute_result"
    }
   ],
   "source": [
    "instd_arr = np.insert(zeros, 1, ones, axis=0)\n",
    "instd_arr"
   ]
  },
  {
   "cell_type": "markdown",
   "id": "f2824517-6b6d-4741-96d5-c2c9f434b363",
   "metadata": {},
   "source": [
    "#### Delete"
   ]
  },
  {
   "cell_type": "code",
   "execution_count": 103,
   "id": "2b822555-e2af-4362-b811-a5ca30349604",
   "metadata": {},
   "outputs": [
    {
     "data": {
      "text/plain": [
       "array([[[0.79183093, 0.32436778, 0.01615257],\n",
       "        [0.78042777, 0.03581871, 0.61194395]],\n",
       "\n",
       "       [[0.75627232, 0.41963175, 0.04507293],\n",
       "        [0.65572024, 0.02380037, 0.06715782]],\n",
       "\n",
       "       [[0.27048426, 0.58826117, 0.37827333],\n",
       "        [0.70226559, 0.91140747, 0.35087951]]])"
      ]
     },
     "execution_count": 103,
     "metadata": {},
     "output_type": "execute_result"
    }
   ],
   "source": [
    "arr4 = np.random.rand(3,2,3)\n",
    "arr4"
   ]
  },
  {
   "cell_type": "code",
   "execution_count": 104,
   "id": "34056b39-e762-454c-b290-f4bb8ccdced9",
   "metadata": {},
   "outputs": [
    {
     "data": {
      "text/plain": [
       "array([[[0.78042777, 0.03581871, 0.61194395]],\n",
       "\n",
       "       [[0.65572024, 0.02380037, 0.06715782]],\n",
       "\n",
       "       [[0.70226559, 0.91140747, 0.35087951]]])"
      ]
     },
     "execution_count": 104,
     "metadata": {},
     "output_type": "execute_result"
    }
   ],
   "source": [
    "arr4_del = np.delete(arr4, 0, axis=1)\n",
    "arr4_del"
   ]
  },
  {
   "cell_type": "markdown",
   "id": "35090b4b-cbb1-4b46-b2f5-0787b131ea9e",
   "metadata": {},
   "source": [
    "##### Save"
   ]
  },
  {
   "cell_type": "code",
   "execution_count": 105,
   "id": "0d0990df-b9e7-4dcf-a806-19fa74bbb914",
   "metadata": {},
   "outputs": [],
   "source": [
    "np.save(\"arr4_del\", arr4_del)"
   ]
  },
  {
   "cell_type": "markdown",
   "id": "029cd732-2fdc-46a9-bc4d-4d55170858c8",
   "metadata": {},
   "source": [
    "##### Load"
   ]
  },
  {
   "cell_type": "code",
   "execution_count": 108,
   "id": "9d36cf42-e83f-45a9-b735-124eef2cdb93",
   "metadata": {},
   "outputs": [
    {
     "data": {
      "text/plain": [
       "array([[[0.78042777, 0.03581871, 0.61194395]],\n",
       "\n",
       "       [[0.65572024, 0.02380037, 0.06715782]],\n",
       "\n",
       "       [[0.70226559, 0.91140747, 0.35087951]]])"
      ]
     },
     "execution_count": 108,
     "metadata": {},
     "output_type": "execute_result"
    }
   ],
   "source": [
    "arr4_1 = np.load(\"arr4_del.npy\")\n",
    "arr4_1"
   ]
  },
  {
   "cell_type": "code",
   "execution_count": null,
   "id": "4037755a-e47c-425e-bdae-428550e05b95",
   "metadata": {},
   "outputs": [],
   "source": []
  }
 ],
 "metadata": {
  "kernelspec": {
   "display_name": "Python 3 (ipykernel)",
   "language": "python",
   "name": "python3"
  },
  "language_info": {
   "codemirror_mode": {
    "name": "ipython",
    "version": 3
   },
   "file_extension": ".py",
   "mimetype": "text/x-python",
   "name": "python",
   "nbconvert_exporter": "python",
   "pygments_lexer": "ipython3",
   "version": "3.13.5"
  }
 },
 "nbformat": 4,
 "nbformat_minor": 5
}
